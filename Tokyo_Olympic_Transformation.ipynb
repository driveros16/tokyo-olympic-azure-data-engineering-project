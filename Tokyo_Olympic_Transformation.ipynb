{
 "cells": [
  {
   "cell_type": "code",
   "execution_count": 0,
   "metadata": {
    "application/vnd.databricks.v1+cell": {
     "cellMetadata": {},
     "inputWidgets": {},
     "nuid": "f5f979a0-7e6d-4ac1-bcd5-60e8c3f03fbf",
     "showTitle": false,
     "title": ""
    }
   },
   "outputs": [],
   "source": [
    "from pyspark.sql.functions import col\n",
    "from pyspark.sql.types import IntegerType, DoubleType, BooleanType, DateType"
   ]
  },
  {
   "cell_type": "code",
   "execution_count": 0,
   "metadata": {
    "application/vnd.databricks.v1+cell": {
     "cellMetadata": {},
     "inputWidgets": {},
     "nuid": "5221dc98-2001-46bd-9424-507217929ffc",
     "showTitle": false,
     "title": ""
    }
   },
   "outputs": [],
   "source": [
    "configs = {\"fs.azure.account.auth.type\": \"OAuth\",\n",
    "            \"fs.azure.account.oauth.provider.type\": \"org.apache.hadoop.fs.azurebfs.oauth2.ClientCredsTokenProvider\",\n",
    "            \"fs.azure.account.oauth2.client.id\": \\",\n",
    "            \"fs.azure.account.oauth2.client.secret\": ,\n",
    "            \"fs.azure.account.oauth2.client.endpoint\": \"https://login.microsoftonline.com//oauth2/token\"}\n",
    "\n",
    "dbutils.fs.mount(\n",
    "source = \"abfss://tokyolympicdata@tokyolympicdatapy.dfs.core.windows.net\", # container@storageaccount\n",
    "mount_point = \"/mnt/tokyolympicdata\",\n",
    "extra_configs = configs)"
   ]
  },
  {
   "cell_type": "code",
   "execution_count": 0,
   "metadata": {
    "application/vnd.databricks.v1+cell": {
     "cellMetadata": {},
     "inputWidgets": {},
     "nuid": "f1811fc4-7ae5-4285-9e76-040e69a9f0d8",
     "showTitle": false,
     "title": ""
    }
   },
   "outputs": [],
   "source": [
    "%fs\n",
    "ls \"/mnt/tokyolympicdata\" "
   ]
  },
  {
   "cell_type": "code",
   "execution_count": 0,
   "metadata": {
    "application/vnd.databricks.v1+cell": {
     "cellMetadata": {},
     "inputWidgets": {},
     "nuid": "297f0906-faa9-41e5-8d0f-e7067a46ff8f",
     "showTitle": false,
     "title": ""
    }
   },
   "outputs": [],
   "source": [
    "spark"
   ]
  },
  {
   "cell_type": "code",
   "execution_count": 0,
   "metadata": {
    "application/vnd.databricks.v1+cell": {
     "cellMetadata": {},
     "inputWidgets": {},
     "nuid": "e00e4bce-b5e7-40fc-8a60-56e76dd3ab10",
     "showTitle": false,
     "title": ""
    }
   },
   "outputs": [],
   "source": [
    "athletes= spark.read.format(\"csv\").option(\"header\", \"true\").load(\"/mnt/tokyolympicdata/raw-data/Athlete.csv\")\n",
    "coaches= spark.read.format(\"csv\").option(\"header\", \"true\").load(\"/mnt/tokyolympicdata/raw-data/Coaches.csv\")\n",
    "entriesGender= spark.read.format(\"csv\").option(\"header\", \"true\").load(\"/mnt/tokyolympicdata/raw-data/EntriesGender.csv\")\n",
    "medals= spark.read.format(\"csv\").option(\"header\", \"true\").option(\"InferSchema\", \"True\").load(\"/mnt/tokyolympicdata/raw-data/Medals.csv\")\n",
    "teams= spark.read.format(\"csv\").option(\"header\", \"true\").option(\"InferSchema\", \"True\").load(\"/mnt/tokyolympicdata/raw-data/Teams.csv\")"
   ]
  },
  {
   "cell_type": "code",
   "execution_count": 0,
   "metadata": {
    "application/vnd.databricks.v1+cell": {
     "cellMetadata": {},
     "inputWidgets": {},
     "nuid": "e14ec47a-4950-4ee0-aee1-3066c456652d",
     "showTitle": false,
     "title": ""
    }
   },
   "outputs": [],
   "source": [
    "athletes.printSchema()"
   ]
  },
  {
   "cell_type": "code",
   "execution_count": 0,
   "metadata": {
    "application/vnd.databricks.v1+cell": {
     "cellMetadata": {},
     "inputWidgets": {},
     "nuid": "e16c76bb-2bb8-41c8-a6aa-b595c4f620a5",
     "showTitle": false,
     "title": ""
    }
   },
   "outputs": [],
   "source": [
    "athletes.repartition(3).write.mode(\"overwrite\").option(\"Header\", \"True\").csv(\"/mnt/tokyolympicdata/transformed-data/athletes.csv\")"
   ]
  },
  {
   "cell_type": "code",
   "execution_count": 0,
   "metadata": {
    "application/vnd.databricks.v1+cell": {
     "cellMetadata": {},
     "inputWidgets": {},
     "nuid": "121b71e8-ed3f-4c59-a7c4-b1955f31a399",
     "showTitle": false,
     "title": ""
    }
   },
   "outputs": [],
   "source": [
    "entriesGender.show()"
   ]
  },
  {
   "cell_type": "code",
   "execution_count": 0,
   "metadata": {
    "application/vnd.databricks.v1+cell": {
     "cellMetadata": {},
     "inputWidgets": {},
     "nuid": "839e2d58-8ec6-4df7-b05d-ef2f2408ed20",
     "showTitle": false,
     "title": ""
    }
   },
   "outputs": [],
   "source": [
    "entriesGender.printSchema()"
   ]
  },
  {
   "cell_type": "code",
   "execution_count": 0,
   "metadata": {
    "application/vnd.databricks.v1+cell": {
     "cellMetadata": {},
     "inputWidgets": {},
     "nuid": "5f25f806-8d9e-468a-b4ed-3a229153fb05",
     "showTitle": false,
     "title": ""
    }
   },
   "outputs": [],
   "source": [
    "entriesGender= entriesGender.withColumn(\"Female\",col(\"Female\").cast(IntegerType())) \\\n",
    "    .withColumn(\"Male\", col (\"Male\").cast(IntegerType())) \\\n",
    "    .withColumn(\"Total\", col (\"Total\").cast(IntegerType()))"
   ]
  },
  {
   "cell_type": "code",
   "execution_count": 0,
   "metadata": {
    "application/vnd.databricks.v1+cell": {
     "cellMetadata": {},
     "inputWidgets": {},
     "nuid": "5a23f543-11b1-4fd6-875c-3d28ec78ec46",
     "showTitle": false,
     "title": ""
    }
   },
   "outputs": [],
   "source": [
    "entriesGender.write.mode(\"overwrite\").option(\"Header\", \"True\").csv(\"/mnt/tokyolympicdata/transformed-data/EntriesGender.csv\")"
   ]
  },
  {
   "cell_type": "code",
   "execution_count": 0,
   "metadata": {
    "application/vnd.databricks.v1+cell": {
     "cellMetadata": {},
     "inputWidgets": {},
     "nuid": "04d49150-41ae-4df1-b6d6-ac12f2ce52ab",
     "showTitle": false,
     "title": ""
    }
   },
   "outputs": [],
   "source": [
    "coaches.printSchema()"
   ]
  },
  {
   "cell_type": "code",
   "execution_count": 0,
   "metadata": {
    "application/vnd.databricks.v1+cell": {
     "cellMetadata": {},
     "inputWidgets": {},
     "nuid": "007617e4-a065-4510-a9fc-ea9a43e86a4c",
     "showTitle": false,
     "title": ""
    }
   },
   "outputs": [],
   "source": [
    "coaches.write.mode(\"overwrite\").option(\"Header\", \"True\").csv(\"/mnt/tokyolympicdata/transformed-data/Coaches.csv\")"
   ]
  },
  {
   "cell_type": "code",
   "execution_count": 0,
   "metadata": {
    "application/vnd.databricks.v1+cell": {
     "cellMetadata": {},
     "inputWidgets": {},
     "nuid": "0b0c1836-2721-4416-946d-3d6313e10d10",
     "showTitle": false,
     "title": ""
    }
   },
   "outputs": [],
   "source": [
    "medals.show()"
   ]
  },
  {
   "cell_type": "code",
   "execution_count": 0,
   "metadata": {
    "application/vnd.databricks.v1+cell": {
     "cellMetadata": {},
     "inputWidgets": {},
     "nuid": "60e5d172-7b11-4af8-a979-76578ea3b1b3",
     "showTitle": false,
     "title": ""
    }
   },
   "outputs": [],
   "source": [
    "medals= medals.withColumn(\"Rank\", col(\"Rank\").cast(IntegerType()))\\\n",
    "    .withColumn(\"Gold\", col(\"Gold\").cast(IntegerType())) \\\n",
    "    .withColumn(\"Silver\", col(\"Silver\").cast(IntegerType())) \\\n",
    "    .withColumn(\"Bronze\", col(\"Bronze\").cast(IntegerType())) \\\n",
    "    .withColumn(\"Total\", col(\"Total\").cast(IntegerType())) \\\n",
    "    .withColumn(\"Rank by Total\", col(\"Rank by Total\").cast(IntegerType()))"
   ]
  },
  {
   "cell_type": "code",
   "execution_count": 0,
   "metadata": {
    "application/vnd.databricks.v1+cell": {
     "cellMetadata": {},
     "inputWidgets": {},
     "nuid": "676a907b-a7bf-451d-a999-5acae9967b1f",
     "showTitle": false,
     "title": ""
    }
   },
   "outputs": [],
   "source": [
    "medals.write.mode(\"overwrite\").option(\"Header\", \"True\").csv(\"/mnt/tokyolympicdata/transformed-data/Medals.csv\")"
   ]
  },
  {
   "cell_type": "code",
   "execution_count": 0,
   "metadata": {
    "application/vnd.databricks.v1+cell": {
     "cellMetadata": {},
     "inputWidgets": {},
     "nuid": "e4c993f7-221c-4791-af85-f9eb8b89e453",
     "showTitle": false,
     "title": ""
    }
   },
   "outputs": [],
   "source": [
    "medals.printSchema()"
   ]
  },
  {
   "cell_type": "code",
   "execution_count": 0,
   "metadata": {
    "application/vnd.databricks.v1+cell": {
     "cellMetadata": {},
     "inputWidgets": {},
     "nuid": "842c4802-be59-47c3-aaba-49e12ab028e4",
     "showTitle": false,
     "title": ""
    }
   },
   "outputs": [],
   "source": [
    "teams.printSchema()"
   ]
  },
  {
   "cell_type": "code",
   "execution_count": 0,
   "metadata": {
    "application/vnd.databricks.v1+cell": {
     "cellMetadata": {},
     "inputWidgets": {},
     "nuid": "2c6aa944-d834-417f-a8b4-894e929f4688",
     "showTitle": false,
     "title": ""
    }
   },
   "outputs": [],
   "source": [
    "teams.write.mode(\"overwrite\").option(\"Header\", \"True\").csv(\"/mnt/tokyolympicdata/transformed-data/Teams.csv\")"
   ]
  },
  {
   "cell_type": "code",
   "execution_count": 0,
   "metadata": {
    "application/vnd.databricks.v1+cell": {
     "cellMetadata": {},
     "inputWidgets": {},
     "nuid": "7bbb9285-d7b9-4461-be92-4b664343b41d",
     "showTitle": false,
     "title": ""
    }
   },
   "outputs": [],
   "source": [
    "# Find the top countries with the highest number of gold medals\n",
    "top_gold_medal_countries= medals.orderBy(\"Gold\", ascending=False).select(\"Team_Country\", \"Gold\").show()"
   ]
  },
  {
   "cell_type": "code",
   "execution_count": 0,
   "metadata": {
    "application/vnd.databricks.v1+cell": {
     "cellMetadata": {},
     "inputWidgets": {},
     "nuid": "80c2b2e1-ea6f-48fc-838d-c70c1ae48765",
     "showTitle": false,
     "title": ""
    }
   },
   "outputs": [],
   "source": [
    "# Calculate the average number of entries by gender for discipline\n",
    "average_entries_by_gender = entriesGender.withColumn(\n",
    "    'Avg_Female', entriesGender['Female'] / entriesGender['Total']\n",
    ").withColumn(\n",
    "    'Avg_Male', entriesGender['Male'] / ( entriesGender['Total'])\n",
    ")\n",
    "average_entries_by_gender.show()"
   ]
  }
 ],
 "metadata": {
  "application/vnd.databricks.v1+notebook": {
   "dashboards": [],
   "language": "python",
   "notebookMetadata": {
    "pythonIndentUnit": 4
   },
   "notebookName": "Tokyo_Olympic_Transformation",
   "widgets": {}
  }
 },
 "nbformat": 4,
 "nbformat_minor": 0
}
